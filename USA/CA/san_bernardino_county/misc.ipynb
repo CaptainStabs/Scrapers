{
 "cells": [
  {
   "cell_type": "code",
   "execution_count": 33,
   "metadata": {},
   "outputs": [],
   "source": [
    "import requests\n",
    "from bs4 import BeautifulSoup\n",
    "import re"
   ]
  },
  {
   "cell_type": "code",
   "execution_count": 53,
   "metadata": {},
   "outputs": [],
   "source": [
    "uof_page = requests.get(\"https://sbcountyda.org/categories/news-releases/use-of-force-reviews/page/1\").content\n",
    "soup = BeautifulSoup(uof_page)"
   ]
  },
  {
   "cell_type": "code",
   "execution_count": 94,
   "metadata": {},
   "outputs": [],
   "source": [
    "def _get_uof_catalog_pages():\n",
    "    '''\n",
    "    Helper method to get use of force catalog pages from San Bernardino site. Fetches base page, calculates number of pages based on results param located at top of page under \"<numeric> results\"\n",
    "    '''\n",
    "    # Get the number of pages from the \"post-results field on the \"Category: Use of Force Reviews\" page\n",
    "    uof_page = requests.get(\"https://sbcountyda.org/categories/news-releases/use-of-force-reviews/\").content\n",
    "    soup = BeautifulSoup(uof_page)\n",
    "    number_of_pages = int(re.search(\"\\d*\", soup.find_all(\"div\", {\"class\": \"post-results\"})[0].text).group()) % 10\n",
    "    base_pages = [\"https://sbcountyda.org/categories/news-releases/use-of-force-reviews/page/{}/\".format(i) for i in range(1, number_of_pages + 1)]\n",
    "    return base_pages\n"
   ]
  },
  {
   "cell_type": "code",
   "execution_count": 56,
   "metadata": {},
   "outputs": [
    {
     "name": "stdout",
     "output_type": "stream",
     "text": [
      "https://sbcountyda.org/2022/09/06/officer-involved-shooting-fatal-barstow-latham-c/\n",
      "https://sbcountyda.org/2022/08/23/officer-involved-shooting-non-fatal-fontana-bowers-c/\n",
      "https://sbcountyda.org/2022/07/12/officer-involved-shooting-fatal-morongo-beedie-j/\n",
      "https://sbcountyda.org/2022/05/24/officer-involved-shooting-fatal-joshua-tree-urrea-d/\n",
      "https://sbcountyda.org/2022/04/26/officer-involved-shooting-fatal-san-bernardino-villegas-s/\n",
      "https://sbcountyda.org/2022/04/12/officer-involved-shooting-fatal-san-bernardino-boyd-s/\n",
      "https://sbcountyda.org/2022/03/29/officer-involved-shooting-non-fatal-yucca-valley-speer-d/\n",
      "https://sbcountyda.org/2022/03/15/officer-involved-shooting-non-fatal-montclair-ramos-j/\n",
      "https://sbcountyda.org/2022/03/01/officer-involved-shooting-non-fatal-yucca-valley-c-burghardt/\n",
      "https://sbcountyda.org/2022/01/31/officer-involved-shooting-non-fatal-lucerne-valley-a-juarez/\n"
     ]
    }
   ],
   "source": [
    "# Get links to each individiual uof case filing page\n",
    "uof_page = requests.get(\"https://sbcountyda.org/categories/news-releases/use-of-force-reviews/page/2\").content\n",
    "soup = BeautifulSoup(uof_page)\n",
    "for i in soup.find_all(\"h2\", {\"class\": \"entry-title bolt-highlight-font\"}):\n",
    "    regex_match = re.search(r\"\\<a href=.* rel\", str(i)).group()\n",
    "    # Strip head and tail of match to get just the link. There's probably a better way to search this with bs4\n",
    "    link_cleaned = str(regex_match).replace('<a href=\"', \"\").replace('\" rel', \"\")\n",
    "    print(link_cleaned)"
   ]
  }
 ],
 "metadata": {
  "kernelspec": {
   "display_name": "pdap-venv",
   "language": "python",
   "name": "python3"
  },
  "language_info": {
   "codemirror_mode": {
    "name": "ipython",
    "version": 3
   },
   "file_extension": ".py",
   "mimetype": "text/x-python",
   "name": "python",
   "nbconvert_exporter": "python",
   "pygments_lexer": "ipython3",
   "version": "3.10.6"
  },
  "orig_nbformat": 4
 },
 "nbformat": 4,
 "nbformat_minor": 2
}
