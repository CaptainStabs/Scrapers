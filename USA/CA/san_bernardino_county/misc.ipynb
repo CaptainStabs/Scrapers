{
 "cells": [
  {
   "cell_type": "code",
   "execution_count": 33,
   "metadata": {},
   "outputs": [],
   "source": [
    "import requests\n",
    "from bs4 import BeautifulSoup\n",
    "import re"
   ]
  },
  {
   "cell_type": "code",
   "execution_count": 53,
   "metadata": {},
   "outputs": [],
   "source": [
    "uof_page = requests.get(\"https://sbcountyda.org/categories/news-releases/use-of-force-reviews/page/1\").content\n",
    "soup = BeautifulSoup(uof_page)"
   ]
  },
  {
   "cell_type": "code",
   "execution_count": 56,
   "metadata": {},
   "outputs": [
    {
     "name": "stdout",
     "output_type": "stream",
     "text": [
      "https://sbcountyda.org/2022/09/06/officer-involved-shooting-fatal-barstow-latham-c/\n",
      "https://sbcountyda.org/2022/08/23/officer-involved-shooting-non-fatal-fontana-bowers-c/\n",
      "https://sbcountyda.org/2022/07/12/officer-involved-shooting-fatal-morongo-beedie-j/\n",
      "https://sbcountyda.org/2022/05/24/officer-involved-shooting-fatal-joshua-tree-urrea-d/\n",
      "https://sbcountyda.org/2022/04/26/officer-involved-shooting-fatal-san-bernardino-villegas-s/\n",
      "https://sbcountyda.org/2022/04/12/officer-involved-shooting-fatal-san-bernardino-boyd-s/\n",
      "https://sbcountyda.org/2022/03/29/officer-involved-shooting-non-fatal-yucca-valley-speer-d/\n",
      "https://sbcountyda.org/2022/03/15/officer-involved-shooting-non-fatal-montclair-ramos-j/\n",
      "https://sbcountyda.org/2022/03/01/officer-involved-shooting-non-fatal-yucca-valley-c-burghardt/\n",
      "https://sbcountyda.org/2022/01/31/officer-involved-shooting-non-fatal-lucerne-valley-a-juarez/\n"
     ]
    }
   ],
   "source": [
    "uof_page = requests.get(\"https://sbcountyda.org/categories/news-releases/use-of-force-reviews/page/2\").content\n",
    "soup = BeautifulSoup(uof_page)\n",
    "for i in soup.find_all(\"h2\", {\"class\": \"entry-title bolt-highlight-font\"}):\n",
    "    regex_match = re.search(r\"\\<a href=.* rel\", str(i)).group()\n",
    "    link_cleaned = str(regex_match).replace('<a href=\"', \"\").replace('\" rel', \"\")\n",
    "    # link_cleaned = regex_match.replace(\"<a href =\\\"\", \"\\\" rel\", \"\")\n",
    "\n",
    "    print(link_cleaned)"
   ]
  }
 ],
 "metadata": {
  "kernelspec": {
   "display_name": "pdap-venv",
   "language": "python",
   "name": "python3"
  },
  "language_info": {
   "codemirror_mode": {
    "name": "ipython",
    "version": 3
   },
   "file_extension": ".py",
   "mimetype": "text/x-python",
   "name": "python",
   "nbconvert_exporter": "python",
   "pygments_lexer": "ipython3",
   "version": "3.10.6"
  },
  "orig_nbformat": 4
 },
 "nbformat": 4,
 "nbformat_minor": 2
}
